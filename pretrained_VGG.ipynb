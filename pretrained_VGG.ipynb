{
 "cells": [
  {
   "cell_type": "code",
   "execution_count": 1,
   "metadata": {},
   "outputs": [
    {
     "name": "stderr",
     "output_type": "stream",
     "text": [
      "Using TensorFlow backend.\n"
     ]
    }
   ],
   "source": [
    "import numpy as np\n",
    "import keras\n",
    "from keras.preprocessing.image import array_to_img, img_to_array, load_img\n",
    "class DataGenerator(keras.utils.Sequence):\n",
    "    def __init__(self, list_IDs, labels, batch_size=4, dim=(50,50), n_channels=3, n_classes=2, shuffle=True):\n",
    "        self.dim = dim\n",
    "        self.batch_size = batch_size\n",
    "        self.labels = labels\n",
    "        self.list_IDs = list_IDs\n",
    "        self.n_channels = n_channels\n",
    "        self.n_classes = n_classes\n",
    "        self.shuffle = shuffle\n",
    "        self.on_epoch_end()\n",
    "        self.n = len(list_IDs)\n",
    "    \n",
    "    def __len__(self):\n",
    "        return int(np.floor(len(self.list_IDs) / self.batch_size))\n",
    "    \n",
    "    def __getitem__(self, index):\n",
    "        indexes = self.indexes[index*self.batch_size:(index+1)*self.batch_size]\n",
    "        list_IDs_temp = [self.list_IDs[k] for k in indexes]\n",
    "        X, y = self.__data_generation(list_IDs_temp)\n",
    "        return X, y\n",
    "    \n",
    "    def on_epoch_end(self):\n",
    "        self.indexes = np.arange(len(self.list_IDs))\n",
    "        if self.shuffle == True:\n",
    "            np.random.shuffle(self.indexes)\n",
    "            \n",
    "    def __data_generation(self, list_IDs_temp):\n",
    "        X = np.empty((self.batch_size, *self.dim, self.n_channels))\n",
    "        y = np.empty((self.batch_size), dtype=int)\n",
    "        \n",
    "        for i, ID in enumerate(list_IDs_temp):\n",
    "            X[i, ] = img_to_array(load_img(ID))\n",
    "            y[i] = self.labels[ID]\n",
    "        return X, y"
   ]
  },
  {
   "cell_type": "code",
   "execution_count": 2,
   "metadata": {},
   "outputs": [],
   "source": [
    "# Generate file IDs\n",
    "import os\n",
    "from PIL import Image\n",
    "training_dir = 'F:/Breast histopathology image analysis/breast-histopathology-images'\n",
    "patient_list = os.listdir(training_dir)\n",
    "gr1_IDs = []\n",
    "gr0_IDs = []\n",
    "labels = dict()\n",
    "for i in patient_list:\n",
    "    this_pt_gr1 = training_dir + '/' + i + '/1'\n",
    "    this_pt_gr0 = training_dir + '/' + i + '/0'\n",
    "    gr1_IDs.extend([this_pt_gr1 + '/' + x for x in os.listdir(this_pt_gr1)])\n",
    "    gr0_IDs.extend(this_pt_gr0 + '/' + x for x in os.listdir(this_pt_gr0))\n",
    "for x in gr1_IDs:\n",
    "    labels[x] = 1\n",
    "for x in gr0_IDs:\n",
    "    labels[x] = 0"
   ]
  },
  {
   "cell_type": "code",
   "execution_count": 3,
   "metadata": {},
   "outputs": [],
   "source": [
    "# generate training and testing set\n",
    "training_1 = np.random.choice(gr1_IDs, int(len(gr1_IDs)/2), replace=False)\n",
    "testing_1 = np.setdiff1d(gr1_IDs, training_1)\n",
    "training_0 = np.random.choice(gr0_IDs, int(len(gr0_IDs)/2), replace=False)\n",
    "testing_0 = np.setdiff1d(gr0_IDs, training_0)\n",
    "training_set = np.append(training_1, training_0)\n",
    "testing_set = np.append(testing_1, testing_0)"
   ]
  },
  {
   "cell_type": "code",
   "execution_count": 4,
   "metadata": {},
   "outputs": [
    {
     "data": {
      "text/plain": [
       "<Figure size 640x480 with 1 Axes>"
      ]
     },
     "metadata": {},
     "output_type": "display_data"
    }
   ],
   "source": [
    "# analyze 1s and 0s\n",
    "import matplotlib.pyplot as plt\n",
    "num = [len(gr0_IDs), len(gr1_IDs)]\n",
    "index = ('0','1')\n",
    "bar_width = 0.2\n",
    "fig, ax = plt.subplots()\n",
    "rects1 = ax.bar(index, num,align='center',\n",
    "                color='grey', width=0.5\n",
    "                )\n",
    "plt.title('size of each data category')\n",
    "plt.show()\n",
    "fig.savefig('cat_n.png', dpi=200)\n"
   ]
  },
  {
   "cell_type": "code",
   "execution_count": 5,
   "metadata": {},
   "outputs": [],
   "source": [
    "# downsample 0s\n",
    "gr0_IDs_ds = np.random.choice(gr0_IDs, len(gr1_IDs), replace=False)\n",
    "training_1 = np.random.choice(gr1_IDs, int(len(gr1_IDs)/2), replace=False)\n",
    "testing_1 = np.setdiff1d(gr1_IDs, training_1)\n",
    "training_0 = np.random.choice(gr0_IDs_ds, int(len(gr0_IDs_ds)/2), replace=False)\n",
    "testing_0 = np.setdiff1d(gr0_IDs_ds, training_0)\n",
    "training_set = np.append(training_1, training_0)\n",
    "testing_set = np.append(testing_1, testing_0)"
   ]
  },
  {
   "cell_type": "code",
   "execution_count": 6,
   "metadata": {},
   "outputs": [],
   "source": [
    "gr0_res = np.setdiff1d(gr0_IDs, gr0_IDs_ds)\n",
    "res_set = np.array(gr0_res)"
   ]
  },
  {
   "cell_type": "code",
   "execution_count": 7,
   "metadata": {},
   "outputs": [],
   "source": [
    "params = {'dim': (50,50),\n",
    "          'batch_size':2048,\n",
    "          'n_classes': 2,\n",
    "          'n_channels': 3,\n",
    "          'shuffle': True}\n",
    "training_generator = DataGenerator(training_set, labels, **params)\n",
    "testing_generator = DataGenerator(testing_set, labels, **params)\n",
    "res_generator = DataGenerator(res_set, labels, **params)"
   ]
  },
  {
   "cell_type": "code",
   "execution_count": 8,
   "metadata": {},
   "outputs": [],
   "source": [
    "# build model\n",
    "import argparse\n",
    "import keras\n",
    "from keras.models import Sequential\n",
    "from keras.layers.convolutional import Conv2D, MaxPooling2D, ZeroPadding2D\n",
    "from keras.layers.core import Dense, Dropout, Activation, Flatten\n",
    "from keras.layers.normalization import BatchNormalization\n",
    "from keras.regularizers import l2"
   ]
  },
  {
   "cell_type": "code",
   "execution_count": 9,
   "metadata": {},
   "outputs": [
    {
     "name": "stdout",
     "output_type": "stream",
     "text": [
      "19\n",
      "_________________________________________________________________\n",
      "Layer (type)                 Output Shape              Param #   \n",
      "=================================================================\n",
      "input_1 (InputLayer)         (None, 50, 50, 3)         0         \n",
      "_________________________________________________________________\n",
      "block1_conv1 (Conv2D)        (None, 50, 50, 64)        1792      \n",
      "_________________________________________________________________\n",
      "block1_conv2 (Conv2D)        (None, 50, 50, 64)        36928     \n",
      "_________________________________________________________________\n",
      "block1_pool (MaxPooling2D)   (None, 25, 25, 64)        0         \n",
      "_________________________________________________________________\n",
      "block2_conv1 (Conv2D)        (None, 25, 25, 128)       73856     \n",
      "_________________________________________________________________\n",
      "block2_conv2 (Conv2D)        (None, 25, 25, 128)       147584    \n",
      "_________________________________________________________________\n",
      "block2_pool (MaxPooling2D)   (None, 12, 12, 128)       0         \n",
      "_________________________________________________________________\n",
      "block3_conv1 (Conv2D)        (None, 12, 12, 256)       295168    \n",
      "_________________________________________________________________\n",
      "block3_conv2 (Conv2D)        (None, 12, 12, 256)       590080    \n",
      "_________________________________________________________________\n",
      "block3_conv3 (Conv2D)        (None, 12, 12, 256)       590080    \n",
      "_________________________________________________________________\n",
      "block3_pool (MaxPooling2D)   (None, 6, 6, 256)         0         \n",
      "_________________________________________________________________\n",
      "block4_conv1 (Conv2D)        (None, 6, 6, 512)         1180160   \n",
      "_________________________________________________________________\n",
      "block4_conv2 (Conv2D)        (None, 6, 6, 512)         2359808   \n",
      "_________________________________________________________________\n",
      "block4_conv3 (Conv2D)        (None, 6, 6, 512)         2359808   \n",
      "_________________________________________________________________\n",
      "block4_pool (MaxPooling2D)   (None, 3, 3, 512)         0         \n",
      "_________________________________________________________________\n",
      "block5_conv1 (Conv2D)        (None, 3, 3, 512)         2359808   \n",
      "_________________________________________________________________\n",
      "block5_conv2 (Conv2D)        (None, 3, 3, 512)         2359808   \n",
      "_________________________________________________________________\n",
      "block5_conv3 (Conv2D)        (None, 3, 3, 512)         2359808   \n",
      "_________________________________________________________________\n",
      "block5_pool (MaxPooling2D)   (None, 1, 1, 512)         0         \n",
      "=================================================================\n",
      "Total params: 14,714,688\n",
      "Trainable params: 7,079,424\n",
      "Non-trainable params: 7,635,264\n",
      "_________________________________________________________________\n"
     ]
    }
   ],
   "source": [
    "vgg_model = keras.applications.VGG16(include_top=False, weights=\"imagenet\", input_shape=(50, 50, 3),classes=2)\n",
    "for layer in vgg_model.layers[:-4]:\n",
    "    layer.trainable = False\n",
    "k=0\n",
    "for layer in vgg_model.layers:\n",
    "        k=k+1\n",
    "print(k)\n",
    "vgg_model.summary()"
   ]
  },
  {
   "cell_type": "code",
   "execution_count": 10,
   "metadata": {},
   "outputs": [],
   "source": [
    "n_classes = 1\n",
    "vgg = Sequential()\n",
    "vgg.add(vgg_model)\n",
    "vgg.add(Flatten())\n",
    "vgg.add(Dense(64))\n",
    "vgg.add(Activation('relu'))\n",
    "vgg.add(Dropout(0.5))\n",
    "vgg.add(Dense(n_classes))\n",
    "vgg.add(Activation('sigmoid'))"
   ]
  },
  {
   "cell_type": "code",
   "execution_count": 11,
   "metadata": {},
   "outputs": [],
   "source": [
    "vgg.compile(loss='binary_crossentropy', optimizer=keras.optimizers.RMSprop(lr=1e-4), metrics=['acc'])"
   ]
  },
  {
   "cell_type": "code",
   "execution_count": 12,
   "metadata": {},
   "outputs": [
    {
     "name": "stdout",
     "output_type": "stream",
     "text": [
      "Epoch 1/25\n",
      "39/38 [==============================] - 58s 1s/step - loss: 0.9748 - acc: 0.6138 - val_loss: 0.5574 - val_acc: 0.6819\n",
      "\n",
      "Epoch 00001: val_acc improved from -inf to 0.68187, saving model to F:/Breast histopathology image analysis/weights_improv_01_0.68.hdf5\n",
      "Epoch 2/25\n",
      "39/38 [==============================] - 44s 1s/step - loss: 0.6819 - acc: 0.5391 - val_loss: 0.6479 - val_acc: 0.6928\n",
      "\n",
      "Epoch 00002: val_acc improved from 0.68187 to 0.69285, saving model to F:/Breast histopathology image analysis/weights_improv_02_0.69.hdf5\n",
      "Epoch 3/25\n",
      "39/38 [==============================] - 45s 1s/step - loss: 0.6424 - acc: 0.6538 - val_loss: 0.5743 - val_acc: 0.7774\n",
      "\n",
      "Epoch 00003: val_acc improved from 0.69285 to 0.77745, saving model to F:/Breast histopathology image analysis/weights_improv_03_0.78.hdf5\n",
      "Epoch 4/25\n",
      "39/38 [==============================] - 45s 1s/step - loss: 0.6235 - acc: 0.6586 - val_loss: 0.5235 - val_acc: 0.7644\n",
      "\n",
      "Epoch 00004: val_acc did not improve from 0.77745\n",
      "Epoch 5/25\n",
      "39/38 [==============================] - 45s 1s/step - loss: 0.5499 - acc: 0.7424 - val_loss: 0.4604 - val_acc: 0.7819\n",
      "\n",
      "Epoch 00005: val_acc improved from 0.77745 to 0.78188, saving model to F:/Breast histopathology image analysis/weights_improv_05_0.78.hdf5\n",
      "Epoch 6/25\n",
      "39/38 [==============================] - 45s 1s/step - loss: 0.4967 - acc: 0.7704 - val_loss: 0.4253 - val_acc: 0.7992\n",
      "\n",
      "Epoch 00006: val_acc improved from 0.78188 to 0.79924, saving model to F:/Breast histopathology image analysis/weights_improv_06_0.80.hdf5\n",
      "Epoch 7/25\n",
      "39/38 [==============================] - 45s 1s/step - loss: 0.4551 - acc: 0.7860 - val_loss: 0.4333 - val_acc: 0.8058\n",
      "\n",
      "Epoch 00007: val_acc improved from 0.79924 to 0.80584, saving model to F:/Breast histopathology image analysis/weights_improv_07_0.81.hdf5\n",
      "Epoch 8/25\n",
      "39/38 [==============================] - 45s 1s/step - loss: 0.4359 - acc: 0.7997 - val_loss: 0.4174 - val_acc: 0.8208\n",
      "\n",
      "Epoch 00008: val_acc improved from 0.80584 to 0.82080, saving model to F:/Breast histopathology image analysis/weights_improv_08_0.82.hdf5\n",
      "Epoch 9/25\n",
      "39/38 [==============================] - 45s 1s/step - loss: 0.4133 - acc: 0.8108 - val_loss: 0.4059 - val_acc: 0.8233\n",
      "\n",
      "Epoch 00009: val_acc improved from 0.82080 to 0.82327, saving model to F:/Breast histopathology image analysis/weights_improv_09_0.82.hdf5\n",
      "Epoch 10/25\n",
      "39/38 [==============================] - 44s 1s/step - loss: 0.3964 - acc: 0.8172 - val_loss: 0.4452 - val_acc: 0.8068\n",
      "\n",
      "Epoch 00010: val_acc did not improve from 0.82327\n",
      "Epoch 11/25\n",
      "39/38 [==============================] - 45s 1s/step - loss: 0.3752 - acc: 0.8294 - val_loss: 0.4033 - val_acc: 0.8302\n",
      "\n",
      "Epoch 00011: val_acc improved from 0.82327 to 0.83016, saving model to F:/Breast histopathology image analysis/weights_improv_11_0.83.hdf5\n",
      "Epoch 12/25\n",
      "39/38 [==============================] - 45s 1s/step - loss: 0.3649 - acc: 0.8330 - val_loss: 0.4280 - val_acc: 0.8212\n",
      "\n",
      "Epoch 00012: val_acc did not improve from 0.83016\n",
      "Epoch 13/25\n",
      "39/38 [==============================] - 44s 1s/step - loss: 0.3483 - acc: 0.8399 - val_loss: 0.4587 - val_acc: 0.8076\n",
      "\n",
      "Epoch 00013: val_acc did not improve from 0.83016\n",
      "Epoch 14/25\n",
      "39/38 [==============================] - 45s 1s/step - loss: 0.3347 - acc: 0.8468 - val_loss: 0.4286 - val_acc: 0.8188\n",
      "\n",
      "Epoch 00014: val_acc did not improve from 0.83016\n",
      "Epoch 15/25\n",
      "39/38 [==============================] - 45s 1s/step - loss: 0.3136 - acc: 0.8567 - val_loss: 0.4483 - val_acc: 0.8286\n",
      "\n",
      "Epoch 00015: val_acc did not improve from 0.83016\n",
      "Epoch 16/25\n",
      "39/38 [==============================] - 45s 1s/step - loss: 0.2994 - acc: 0.8652 - val_loss: 0.4226 - val_acc: 0.8135\n",
      "\n",
      "Epoch 00016: val_acc did not improve from 0.83016\n",
      "Epoch 17/25\n",
      "39/38 [==============================] - 45s 1s/step - loss: 0.2886 - acc: 0.8697 - val_loss: 0.4860 - val_acc: 0.8016\n",
      "\n",
      "Epoch 00017: val_acc did not improve from 0.83016\n",
      "Epoch 18/25\n",
      "39/38 [==============================] - 46s 1s/step - loss: 0.2715 - acc: 0.8781 - val_loss: 0.4985 - val_acc: 0.8341\n",
      "\n",
      "Epoch 00018: val_acc improved from 0.83016 to 0.83413, saving model to F:/Breast histopathology image analysis/weights_improv_18_0.83.hdf5\n",
      "Epoch 19/25\n",
      "39/38 [==============================] - 46s 1s/step - loss: 0.2473 - acc: 0.8905 - val_loss: 0.5047 - val_acc: 0.8027\n",
      "\n",
      "Epoch 00019: val_acc did not improve from 0.83413\n",
      "Epoch 20/25\n",
      "39/38 [==============================] - 46s 1s/step - loss: 0.2422 - acc: 0.8935 - val_loss: 0.7876 - val_acc: 0.8021\n",
      "\n",
      "Epoch 00020: val_acc did not improve from 0.83413\n",
      "Epoch 21/25\n",
      "39/38 [==============================] - 47s 1s/step - loss: 0.2190 - acc: 0.9055 - val_loss: 0.5410 - val_acc: 0.8252\n",
      "\n",
      "Epoch 00021: val_acc did not improve from 0.83413\n",
      "Epoch 22/25\n",
      "39/38 [==============================] - 46s 1s/step - loss: 0.2058 - acc: 0.9112 - val_loss: 0.6686 - val_acc: 0.7499\n",
      "\n",
      "Epoch 00022: val_acc did not improve from 0.83413\n",
      "Epoch 23/25\n",
      "39/38 [==============================] - 47s 1s/step - loss: 0.1944 - acc: 0.9185 - val_loss: 0.6306 - val_acc: 0.8261\n",
      "\n",
      "Epoch 00023: val_acc did not improve from 0.83413\n",
      "Epoch 24/25\n",
      "39/38 [==============================] - 47s 1s/step - loss: 0.1717 - acc: 0.9282 - val_loss: 0.8865 - val_acc: 0.8323\n",
      "\n",
      "Epoch 00024: val_acc did not improve from 0.83413\n",
      "Epoch 25/25\n",
      "39/38 [==============================] - 48s 1s/step - loss: 0.1762 - acc: 0.9276 - val_loss: 0.6819 - val_acc: 0.8210\n",
      "\n",
      "Epoch 00025: val_acc did not improve from 0.83413\n"
     ]
    }
   ],
   "source": [
    "from keras.callbacks import TensorBoard\n",
    "from keras.callbacks import ModelCheckpoint\n",
    "from time import time\n",
    "filepath = 'F:/Breast histopathology image analysis/weights_improv_{epoch:02d}_{val_acc:.2f}.hdf5'\n",
    "checkpoint = ModelCheckpoint(filepath, monitor='val_acc', verbose=1, save_best_only=True, mode='max')\n",
    "tensorboard = TensorBoard(log_dir='logs/{}'.format(time()))\n",
    "history = vgg.fit_generator(generator=training_generator,\n",
    "                    validation_data=testing_generator,\n",
    "                   epochs=25,\n",
    "                  steps_per_epoch=training_generator.n/training_generator.batch_size,\n",
    "                  validation_steps = testing_generator.n/testing_generator.batch_size,\n",
    "                callbacks = [tensorboard, checkpoint])"
   ]
  },
  {
   "cell_type": "code",
   "execution_count": 14,
   "metadata": {},
   "outputs": [
    {
     "data": {
      "image/png": "[encoded data removed]",
      "text/plain": [
       "<Figure size 432x288 with 1 Axes>"
      ]
     },
     "metadata": {},
     "output_type": "display_data"
    },
    {
     "data": {
      "image/png": "[encoded data removed]",
      "text/plain": [
       "<Figure size 432x288 with 1 Axes>"
      ]
     },
     "metadata": {},
     "output_type": "display_data"
    }
   ],
   "source": [
    "hist1 = history\n",
    "acc = hist1.history['acc']\n",
    "val_acc = hist1.history['val_acc']\n",
    "loss = hist1.history['loss']\n",
    "val_loss = hist1.history['val_loss']\n",
    "\n",
    "epochs = range(len(acc))\n",
    "import matplotlib.pyplot as plt\n",
    "plt.plot(epochs, acc, 'b', label='Training acc')\n",
    "plt.plot(epochs, val_acc, 'r', label='Validation acc')\n",
    "plt.title('Training and validation accuracy')\n",
    "plt.legend()\n",
    "plt.savefig('vggacc.png',dpi=120)\n",
    "plt.figure()\n",
    "plt.plot(epochs, loss, 'b', label='Training loss')\n",
    "plt.plot(epochs, val_loss, 'r', label='Validation loss')\n",
    "plt.title('Training and validation loss')\n",
    "plt.legend()\n",
    "plt.savefig('vggloss.png',dip=120)\n",
    "\n",
    "plt.show()"
   ]
  },
  {
   "cell_type": "code",
   "execution_count": 18,
   "metadata": {},
   "outputs": [
    {
     "name": "stdout",
     "output_type": "stream",
     "text": [
      "57/57 [==============================] - 43s 751ms/step\n"
     ]
    }
   ],
   "source": [
    "vgg.load_weights('F:/Breast histopathology image analysis/weights_improv_18_0.83.hdf5')\n",
    "res_pred = vgg.evaluate_generator(res_generator, verbose=1)"
   ]
  },
  {
   "cell_type": "code",
   "execution_count": 20,
   "metadata": {},
   "outputs": [],
   "source": [
    "np.save('F:/Breast histopathology image analysis/vgg_25epoch_ds.npy', history.history)"
   ]
  },
  {
   "cell_type": "code",
   "execution_count": null,
   "metadata": {},
   "outputs": [],
   "source": [
    "history = {'loss':[], 'val_loss':[], 'acc':[], 'val_acc':[]}\n",
    "import tensorflow as tf\n",
    "for e in tf.train.summary_iterator('F:/Breast histopathology image analysis/logs/1543781253.0051723/events.out.tfevents.1543781257.DESKTOP-N6SS82Q'):\n",
    "    for v in e.summary.value:\n",
    "        if v.tag == 'loss':\n",
    "            history['loss'].append(v.simple_value)\n",
    "        if v.tag == 'val_loss':\n",
    "            history['val_loss'].append(v.simple_value)\n",
    "        if v.tag == 'val_acc':\n",
    "            history['val_acc'].append(v.simple_value)\n",
    "        if v.tag == 'acc':\n",
    "            history['acc'].append(v.simple_value)\n",
    "print(history)\n",
    "np.save('F:/Breast histopathology image analysis/vgg_50epoch.npy', history)"
   ]
  }
 ],
 "metadata": {
  "kernelspec": {
   "display_name": "Python 3",
   "language": "python",
   "name": "python3"
  },
  "language_info": {
   "codemirror_mode": {
    "name": "ipython",
    "version": 3
   },
   "file_extension": ".py",
   "mimetype": "text/x-python",
   "name": "python",
   "nbconvert_exporter": "python",
   "pygments_lexer": "ipython3",
   "version": "3.6.6"
  }
 },
 "nbformat": 4,
 "nbformat_minor": 2
}
